{
 "cells": [
  {
   "cell_type": "markdown",
   "metadata": {},
   "source": [
    "# EIE 1st Year Project - Reference Design 2019\n",
    "\n",
    "This notebook demonstrates the interface between PYNQ's Processing Systems (PS) and a custom HLS hardware block integrated with PYNQ's base overlay for real-time Video Processing. It implements a Vertical-Edge detector capable of running in >30fps. \n",
    "\n",
    "This material can be used for academic purposes only. Any commerical use is prohibited. \n",
    "\n",
    "Contact: Alexandros Kouris (a.kouris16@imperial.ac.uk), Ph.D. Candidate, Imperial College London"
   ]
  },
  {
   "cell_type": "code",
   "execution_count": null,
   "metadata": {},
   "outputs": [],
   "source": [
    "from pynq import Overlay, Xlnk\n",
    "from pynq.overlays.base import BaseOverlay\n",
    "\n",
    "allocator = Xlnk()\n",
    "\n",
    "#Load customised version of Base-Overlay,that included the custom hardware block, instead of using BaseOverlay(\"base.bit\")\n",
    "#------------------------------------------------------------------------------------------------------------------------\n",
    "#ol = Overlay(\"eie_v25.bit\") #Grayscale, full-frame (33fps)\n",
    "#ol = Overlay(\"eie_v25_2.bit\") #Grayscale, half-frame (33fps)\n",
    "#ol = Overlay(\"eie_v26.bit\") #Vertical Edge-Detector, half-frame (33fps)  - EIE2019\n",
    "ol = BaseOverlay(\"eie_v26.bit\") #Vertical Edge-Detector, half-frame (33fps)  - EIE2019"

   ]
  },
  {
   "cell_type": "code",
   "execution_count": null,
   "metadata": {},
   "outputs": [],
   "source": [
    "from pynq.lib.video import *\n",
    "\n",
    "hdmi_in = ol.video.hdmi_in\n",
    "hdmi_out = ol.video.hdmi_out\n",
    "\n",
    "hdmi_in.configure(PIXEL_RGBA)\n",
    "hdmi_out.configure(hdmi_in.mode, PIXEL_RGBA)"
   ]
  },
  {
   "cell_type": "code",
   "execution_count": null,
   "metadata": {},
   "outputs": [],
   "source": [
    "hdmi_in.start()\n",
    "hdmi_out.start()"
   ]
  },
  {
   "cell_type": "code",
   "execution_count": null,
   "metadata": {},
   "outputs": [],
   "source": [
    "from pynq import MMIO\n",
    "#filter_reference = MMIO(0x00000000,0x10000)\n",
    "filter_reference = MMIO(0x83C20000,0x10000)  #MMIO Addresses should always be double-checked when exporting a Vivado Design"
   ]
  },
  {
   "cell_type": "code",
   "execution_count": null,
   "metadata": {},
   "outputs": [],
   "source": [
    "import time\n",
    "\n",
    "start = time.time()\n",
    "\n",
    "for _ in range(600):\n",
    "    in_frame = hdmi_in.readframe()\n",
    "    out_frame = hdmi_out.newframe()\n",
    "    filter_reference.write(0x10, in_frame.physical_address)   # Get Pointers to memory\n",
    "    filter_reference.write(0x18, out_frame.physical_address)\n",
    "    filter_reference.write(0x20, 1280)   # Make sure that the input HDMI signal is set to 1280x720\n",
    "    filter_reference.write(0x28, 720)\n",
    "    #filter_reference.write(0x20, in_frame.shape[1]) \n",
    "    #filter_reference.write(0x28, in_frame.shape[0])\n",
    "    filter_reference.write(0x00, 0x01)             # ap_start triggering\n",
    "    while (filter_reference.read(0) & 0x4) == 0:   # ap_done checking\n",
    "        pass\n",
    "    hdmi_out.writeframe(out_frame)\n",
    "\n",
    "end = time.time()\n",
    "\n",
    "print(f\"600 frames took {end-start} seconds at {600/(end-start)} fps\")"
   ]
  },
  {
   "cell_type": "code",
   "execution_count": null,
   "metadata": {},
   "outputs": [],
   "source": [
    "hdmi_in.close()    # Don't forget to run this to free memory\n",
    "hdmi_out.close()   # NEVERFORGET NEVERFORGET NEVERFORGET :p "
   ]
  }
 ],
 "metadata": {
  "kernelspec": {
   "display_name": "Python 3",
   "language": "python",
   "name": "python3"
  },
  "language_info": {
   "codemirror_mode": {
    "name": "ipython",
    "version": 3
   },
   "file_extension": ".py",
   "mimetype": "text/x-python",
   "name": "python",
   "nbconvert_exporter": "python",
   "pygments_lexer": "ipython3",
   "version": "3.6.5"
  }
 },
 "nbformat": 4,
 "nbformat_minor": 2
}
